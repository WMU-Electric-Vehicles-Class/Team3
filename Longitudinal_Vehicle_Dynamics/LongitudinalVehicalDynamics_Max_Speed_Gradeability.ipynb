{
 "cells": [
  {
   "cell_type": "markdown",
   "id": "1779e3c1",
   "metadata": {},
   "source": [
    "## This code is for Longitudinal Vehicle Dynamics. Input/output model from Equations 12 and 13 will be analyzed.\n",
    "> ### Gearbox Efficiency (%) = ng\n",
    "> ### Differential Efficiency (%) = nd\n",
    "> ### Constant Motor Power (W) = Pm\n",
    "> ### Density of Air (kg/m^3) = density\n",
    "> ### Cross Sectional Area (m^2) = A\n",
    "> ### Coefficient of Rolling Resistance = Crr\n",
    "> ### Mass of the Vehicle (kg) = m\n",
    "> ### Acceleration due to gravity (m/s^2) = g\n",
    "> ### Gear Box Ratio = Bg\n",
    "> ### Final Drive Ratio = Bd\n",
    "> ### Maximum Torque = Tm\n",
    "> ### Radius of the Wheel (m) = R"
   ]
  },
  {
   "cell_type": "code",
   "execution_count": 1,
   "id": "8131cdc0",
   "metadata": {},
   "outputs": [],
   "source": [
    "ng=0.88 \n",
    "nd=1 \n",
    "Pm=64000\n",
    "density=1.2\n",
    "Cd=0.29 \n",
    "A=2.799 \n",
    "Crr=0.015 \n",
    "m=1685 \n",
    "g=9.81 \n",
    "Bg=1 \n",
    "Bd=7.981 \n",
    "Tm=395 \n",
    "Rwheel=0.33 \n"
   ]
  },
  {
   "cell_type": "code",
   "execution_count": 2,
   "id": "87bd884b",
   "metadata": {},
   "outputs": [
    {
     "name": "stdout",
     "output_type": "stream",
     "text": [
      "Maximum Speed in MPH =  101.343632758183\n",
      "Maximum Gradeability in Degrees= 29.58\n"
     ]
    }
   ],
   "source": [
    " \n",
    "from sympy import Eq, Symbol, solve\n",
    "import math\n",
    "umax = Symbol('umax')\n",
    "eq1 = Eq((ng*nd*Pm/umax)-0.5*density*Cd*A*umax**2-Crr*m*g,0)\n",
    "sol = solve(eq1)\n",
    "Maximum_Speed_m_s = sol[0]\n",
    "Maximum_Speed_mph = sol[0]*2.24\n",
    "print('Maximum Speed in MPH = ',Maximum_Speed_mph)\n",
    "maxgrade=math.asin((nd*ng*Bg*Bd*Tm)/(Rwheel*m*g)-Crr)\n",
    "maxgradedegree=maxgrade*180/math.pi\n",
    "print('Maximum Gradeability in Degrees=',format(maxgradedegree,\".2f\"))"
   ]
  },
  {
   "cell_type": "code",
   "execution_count": null,
   "id": "4b1d0b84",
   "metadata": {},
   "outputs": [],
   "source": []
  },
  {
   "cell_type": "code",
   "execution_count": null,
   "id": "51b9e663",
   "metadata": {},
   "outputs": [],
   "source": []
  }
 ],
 "metadata": {
  "kernelspec": {
   "display_name": "Python 3 (ipykernel)",
   "language": "python",
   "name": "python3"
  },
  "language_info": {
   "codemirror_mode": {
    "name": "ipython",
    "version": 3
   },
   "file_extension": ".py",
   "mimetype": "text/x-python",
   "name": "python",
   "nbconvert_exporter": "python",
   "pygments_lexer": "ipython3",
   "version": "3.8.10"
  }
 },
 "nbformat": 4,
 "nbformat_minor": 5
}
